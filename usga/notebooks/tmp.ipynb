{
 "cells": [
  {
   "cell_type": "code",
   "execution_count": null,
   "id": "ae4d6d3b",
   "metadata": {},
   "outputs": [],
   "source": [
    "import fitz  # PyMuPDF\n",
    "import os\n",
    "\n",
    "def extract_pdf_chunks(pdf_path, pages_per_chunk=5, overlap=1, output_dir=\"./chunks\"):\n",
    "    os.makedirs(output_dir, exist_ok=True)\n",
    "    doc = fitz.open(pdf_path)\n",
    "    total_pages = len(doc)\n",
    "\n",
    "    start = 0\n",
    "    chunk_id = 1\n",
    "    while start < total_pages:\n",
    "        end = min(start + pages_per_chunk, total_pages)\n",
    "        text = \"\"\n",
    "        for i in range(start, end):\n",
    "            text += doc[i].get_text()\n",
    "        with open(os.path.join(output_dir, f\"chunk_{chunk_id:03}.txt\"), \"w\", encoding=\"utf-8\") as f:\n",
    "            f.write(text)\n",
    "        start = end - overlap\n",
    "        chunk_id += 1\n",
    "    doc.close()\n",
    "\n",
    "\n",
    "\n",
    "    "
   ]
  }
 ],
 "metadata": {
  "language_info": {
   "name": "python"
  }
 },
 "nbformat": 4,
 "nbformat_minor": 5
}
