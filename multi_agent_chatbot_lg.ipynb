{
 "cells": [
  {
   "cell_type": "markdown",
   "metadata": {},
   "source": [
    "# **Multi-Agent Chatbot LangGraph Workflow**\n",
    "\n",
    "### **Overview**\n",
    "- **Orchestrator Agent:** Routes user queries, aggregates responses, and finalizes replies.  \n",
    "- **SQL Agent:** Handles database-related queries and retrieves structured data.  \n",
    "- **Enterprise Search Agent:** Handls document-related queries and retrieves unstructured text data.  \n",
    "- **Reporting Agent:** Generates a structured report when explicitly requested by the user.  \n",
    "- **Chat History:** Tracks all interactions, providing context across multiple queries."
   ]
  },
  {
   "cell_type": "markdown",
   "metadata": {},
   "source": [
    "## **1. State Definition**\n",
    "\n",
    "Tracks the data moving between agents. Maintains context across the workflow."
   ]
  },
  {
   "cell_type": "code",
   "execution_count": null,
   "metadata": {},
   "outputs": [],
   "source": [
    "class State:\n",
    "    def __init__(self, user_query, chat_history=None, request_report=False):\n",
    "        self.user_query = user_query  # Current query from the user\n",
    "        self.route = None             # 'sql' or 'search'\n",
    "        self.sql_result = None        # Result from SQL Agent\n",
    "        self.search_result = None     # Result from Search Agent\n",
    "        self.final_response = None    # Aggregated final response\n",
    "        self.report = None            # Structured report from Reporting Agent\n",
    "        self.request_report = request_report  # True if user requested a report\n",
    "        self.chat_history = chat_history or []  # Stores previous interactions"
   ]
  },
  {
   "cell_type": "markdown",
   "metadata": {},
   "source": [
    "## **2. Agents**\n",
    "\n",
    "### **Orchestrator Agent**\n",
    "\n",
    "- Handles routing based on query type.  \n",
    "- Aggregates results after SQL or Search Agent completes their tasks.  \n",
    "- Finalizes response or invokes the Reporting Agent if a report is requested."
   ]
  },
  {
   "cell_type": "code",
   "execution_count": null,
   "metadata": {},
   "outputs": [],
   "source": [
    "def orchestrator_agent(state: State):\n",
    "    print(\"\\nChat History:\")\n",
    "    for entry in state.chat_history:\n",
    "        print(entry)\n",
    "\n",
    "    if state.route is None:\n",
    "        if \"database\" in state.user_query or \"SQL\" in state.user_query:\n",
    "            state.route = \"sql\"\n",
    "            return \"sql_agent\"\n",
    "        else:\n",
    "            state.route = \"search\"\n",
    "            return \"search_agent\"\n",
    "\n",
    "    if state.route == \"search\":\n",
    "        state.final_response = f\"Search Result: {state.search_result}\"\n",
    "\n",
    "    elif state.route == \"sql\":\n",
    "        state.final_response = f\"Database Result: {state.sql_result}\"\n",
    "    state.chat_history.append({\n",
    "        \"user_query\": state.user_query,\n",
    "        \"agent\": state.route,\n",
    "        \"response\": state.final_response\n",
    "    })\n",
    "\n",
    "    return \"reporting_agent\" if state.request_report else state"
   ]
  },
  {
   "cell_type": "markdown",
   "metadata": {},
   "source": [
    "### **SQL Agent**\n",
    "\n",
    "- Processes SQL-related queries.  \n",
    "- Uses chat history for context if available.  \n",
    "- Returns SQL query results to the Orchestrator Agent."
   ]
  },
  {
   "cell_type": "code",
   "execution_count": null,
   "metadata": {},
   "outputs": [],
   "source": [
    "def sql_agent(state: State):\n",
    "    context = \"\\n\".join([f\"User: {entry['user_query']}, Agent: {entry['agent']}, Response: {entry['response']}\" \n",
    "                         for entry in state.chat_history])\n",
    "    state.sql_result = f\"SQL Query Result for '{state.user_query}' with context:\\n{context}\"\n",
    "    return \"orchestrator_agent\""
   ]
  },
  {
   "cell_type": "markdown",
   "metadata": {},
   "source": [
    "### **Enterprise Search Agent**\n",
    "\n",
    "- Processes document-related queries.  \n",
    "- Uses chat history for context if available.  \n",
    "- Returns search results to the Orchestrator Agent."
   ]
  },
  {
   "cell_type": "code",
   "execution_count": null,
   "metadata": {},
   "outputs": [],
   "source": [
    "def search_agent(state: State):\n",
    "    context = \"\\n\".join([f\"User: {entry['user_query']}, Agent: {entry['agent']}, Response: {entry['response']}\" \n",
    "                         for entry in state.chat_history])\n",
    "    state.search_result = f\"Search Result for '{state.user_query}' with context:\\n{context}\"\n",
    "    return \"orchestrator_agent\""
   ]
  },
  {
   "cell_type": "markdown",
   "metadata": {},
   "source": [
    "### **Reporting Agent**\n",
    "\n",
    "- Uses the final aggregated response from the Orchestrator Agent.  \n",
    "- Creates a structured report from the aggregated data."
   ]
  },
  {
   "cell_type": "code",
   "execution_count": null,
   "metadata": {},
   "outputs": [],
   "source": [
    "def reporting_agent(state: State):\n",
    "    state.report = f\"Aggregated Report:\\n{state.final_response}\\nGenerated using results from your conversation.\"\n",
    "    state.chat_history.append({\n",
    "        \"user_query\": state.user_query,\n",
    "        \"agent\": \"reporting\",\n",
    "        \"response\": state.report\n",
    "    })\n",
    "    state.final_response = state.report\n",
    "    return state"
   ]
  }
 ],
 "metadata": {
  "kernelspec": {
   "display_name": "Python 3",
   "language": "python",
   "name": "python3"
  },
  "language_info": {
   "name": "python"
  }
 },
 "nbformat": 4,
 "nbformat_minor": 5
}
