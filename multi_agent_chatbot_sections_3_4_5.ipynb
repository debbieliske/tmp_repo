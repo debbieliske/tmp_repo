{
 "cells": [
  {
   "cell_type": "markdown",
   "metadata": {},
   "source": [
    "## **3. Workflow Graph**\n",
    "\n",
    "Defines how agents interact and specifies routing conditions."
   ]
  },
  {
   "cell_type": "code",
   "execution_count": null,
   "metadata": {},
   "outputs": [],
   "source": [
    "from langgraph.graph import StateGraph\n",
    "\n",
    "# Create the workflow graph\n",
    "graph = StateGraph(State)\n",
    "\n",
    "# Add agents as nodes\n",
    "graph.add_node(\"orchestrator_agent\", orchestrator_agent)\n",
    "graph.add_node(\"sql_agent\", sql_agent)\n",
    "graph.add_node(\"search_agent\", search_agent)\n",
    "graph.add_node(\"reporting_agent\", reporting_agent)\n",
    "\n",
    "# Define transitions between nodes\n",
    "graph.add_edge(\"orchestrator_agent\", \"sql_agent\", condition=lambda state: state.route == \"sql\")\n",
    "graph.add_edge(\"orchestrator_agent\", \"search_agent\", condition=lambda state: state.route == \"search\")\n",
    "graph.add_edge(\"sql_agent\", \"orchestrator_agent\")\n",
    "graph.add_edge(\"search_agent\", \"orchestrator_agent\")\n",
    "graph.add_edge(\"orchestrator_agent\", \"reporting_agent\", condition=lambda state: state.request_report)\n",
    "\n",
    "# Define entry and finish points\n",
    "graph.set_entry_point(\"orchestrator_agent\")\n",
    "graph.set_finish_point(\"orchestrator_agent\")\n",
    "\n",
    "# Compile the graph\n",
    "app = graph.compile()"
   ]
  },
  {
   "cell_type": "markdown",
   "metadata": {},
   "source": [
    "## **4. Run the Workflow**\n",
    "\n",
    "### **Regular Query Without Report**\n",
    "\n",
    "Handles a standard query where no report is requested."
   ]
  },
  {
   "cell_type": "code",
   "execution_count": null,
   "metadata": {},
   "outputs": [],
   "source": [
    "# Initial query without requesting a report\n",
    "initial_state = State(user_query=\"Show me all customers in the database.\")\n",
    "final_state = app.invoke(initial_state)\n",
    "print(\"\\nFinal Response:\", final_state.final_response)"
   ]
  },
  {
   "cell_type": "markdown",
   "metadata": {},
   "source": [
    "### **Explicit Report Request**\n",
    "\n",
    "Handles a follow-up query where the user requests a report."
   ]
  },
  {
   "cell_type": "code",
   "execution_count": null,
   "metadata": {},
   "outputs": [],
   "source": [
    "# User explicitly requests a report\n",
    "report_request_state = State(\n",
    "    user_query=\"Can you generate a report for this?\",\n",
    "    request_report=True,\n",
    "    chat_history=final_state.chat_history\n",
    ")\n",
    "final_state = app.invoke(report_request_state)\n",
    "print(\"\\nFinal Response:\", final_state.final_response)"
   ]
  },
  {
   "cell_type": "markdown",
   "metadata": {},
   "source": [
    "## **5. Key Points**\n",
    "\n",
    "- The **Orchestrator Agent** manages routing, aggregation, and finalization.  \n",
    "- **SQL Agent** and **Search Agent** handle specialized tasks based on routing decisions.  \n",
    "- The **Reporting Agent** builds a report from the final aggregated response.  \n",
    "- **Chat history** tracks interactions across multiple user queries, providing shared context for all agents.\n",
    "\n",
    "This setup balances clarity and flexibility, making it easy to maintain and extend."
   ]
  }
 ],
 "metadata": {
  "kernelspec": {
   "display_name": "Python 3",
   "language": "python",
   "name": "python3"
  },
  "language_info": {
   "name": "python"
  }
 },
 "nbformat": 4,
 "nbformat_minor": 5
}
