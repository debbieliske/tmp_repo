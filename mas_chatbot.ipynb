{
 "cells": [
  {
   "cell_type": "markdown",
   "id": "aafde54b",
   "metadata": {},
   "source": [
    "# **Multi-Agent Chatbot Workflow with Conditional Reporting Agent**\n",
    "\n",
    "### **Overview**\n",
    "- **Orchestrator Agent:** Routes user queries, aggregates responses, and finalizes replies.  \n",
    "- **SQL Agent:** Handles database-related queries and retrieves structured data.  \n",
    "- **Enterprise Search Agent:** Handles document-related queries and retrieves unstructured text data.  \n",
    "- **Reporting Agent:** Generates a structured report when explicitly requested by the user.  \n",
    "- **Chat History:** Tracks all interactions, providing context across multiple queries."
   ]
  },
  {
   "cell_type": "markdown",
   "id": "6ab32c24",
   "metadata": {},
   "source": [
    "## **1. State Definition**\n",
    "\n",
    "Tracks the data moving between agents. Maintains context across the workflow."
   ]
  },
  {
   "cell_type": "code",
   "execution_count": 1,
   "id": "8e143344",
   "metadata": {},
   "outputs": [],
   "source": [
    "class State:\n",
    "    def __init__(self, user_query, chat_history=None, request_report=False):\n",
    "        self.user_query = user_query  # Current query from the user\n",
    "        self.route = None             # 'sql' or 'search'\n",
    "        self.sql_result = None        # Result from SQL Agent\n",
    "        self.search_result = None     # Result from Search Agent\n",
    "        self.final_response = None    # Aggregated final response\n",
    "        self.report = None            # Structured report from Reporting Agent\n",
    "        self.request_report = request_report  # True if user requested a report\n",
    "        self.chat_history = chat_history or []  # Stores previous interactions\n",
    "\n",
    "\n",
    "    \n",
    "    def __repr__(self):\n",
    "        return (f\"State(user_query={self.user_query}, route={self.route}, \"\n",
    "                f\"sql_result={self.sql_result}, search_result={self.search_result}, \"\n",
    "                f\"final_response={self.final_response}, report={self.report}, \"\n",
    "                f\"request_report={self.request_report}, chat_history={self.chat_history})\")\n",
    "    \n",
    "    def validate(self):\n",
    "        if not isinstance(self.user_query, str):\n",
    "            raise TypeError(\"user_query must be a string\")\n",
    "        if not isinstance(self.chat_history, list):\n",
    "            raise TypeError(\"chat_history must be a list\")\n",
    "        if not isinstance(self.request_report, bool):\n",
    "            raise TypeError(\"request_report must be a boolean\")"
   ]
  },
  {
   "cell_type": "markdown",
   "id": "dcecec0a",
   "metadata": {},
   "source": [
    "## **2. Agents**\n",
    "\n",
    "### **Orchestrator Agent**\n",
    "\n",
    "- Handles routing based on query type.  \n",
    "- Aggregates results after SQL or Search Agent completes their tasks.  \n",
    "- Finalizes response or invokes the Reporting Agent if a report is requested."
   ]
  },
  {
   "cell_type": "code",
   "execution_count": 2,
   "id": "6e30fefc",
   "metadata": {},
   "outputs": [],
   "source": [
    "from langgraph.graph import END\n",
    "\n",
    "def orchestrator_agent(state: State):\n",
    "    state.validate()\n",
    "    print(\"[DEBUG] Entering orchestrator_agent\")\n",
    "    print(\"[DEBUG] State Type Before Processing:\", type(state))\n",
    "    \n",
    "    if state.route is None:\n",
    "        if \"database\" in state.user_query or \"SQL\" in state.user_query:\n",
    "            state.route = \"sql\"\n",
    "            return state\n",
    "        else:\n",
    "            state.route = \"search\"\n",
    "            return state\n",
    "\n",
    "    if state.route == \"search\":\n",
    "        state.final_response = f\"Search Result: {state.search_result}\"\n",
    "    elif state.route == \"sql\":\n",
    "        state.final_response = f\"Database Result: {state.sql_result}\"\n",
    "    \n",
    "    state.chat_history.append({\n",
    "        \"user_query\": state.user_query,\n",
    "        \"agent\": state.route,\n",
    "        \"response\": state.final_response\n",
    "    })\n",
    "\n",
    "    if state.request_report:\n",
    "        state.route = \"reporting\"\n",
    "        return state\n",
    "\n",
    "    # Explicit Stop Condition\n",
    "    if state.final_response is not None:\n",
    "        print(\"[DEBUG] End of Workflow Reached - Returning END\")\n",
    "        return END  # Workflow ends here\n",
    "    \n",
    "    print(\"[DEBUG] Exiting orchestrator_agent with State:\", state)\n",
    "    return state\n"
   ]
  },
  {
   "cell_type": "markdown",
   "id": "f307aed2",
   "metadata": {},
   "source": [
    "### **SQL Agent**\n",
    "\n",
    "- Processes SQL-related queries.  \n",
    "- Uses chat history for context if available.  \n",
    "- Returns SQL query results to the Orchestrator Agent."
   ]
  },
  {
   "cell_type": "code",
   "execution_count": 3,
   "id": "e7ab5607",
   "metadata": {},
   "outputs": [],
   "source": [
    "def sql_agent(state: State):\n",
    "    state.validate()\n",
    "    print(\"[DEBUG] Entering sql_agent\")\n",
    "    print(\"[DEBUG] State Type Before Processing in sql_agent:\", type(state))\n",
    "    \n",
    "    context = \"\\n\".join([\n",
    "        f\"User: {entry['user_query']}, Agent: {entry['agent']}, Response: {entry['response']}\" \n",
    "        for entry in state.chat_history\n",
    "    ])\n",
    "    state.sql_result = f\"SQL Query Result for '{state.user_query}' with context:\\n{context}\"\n",
    "    \n",
    "    print(\"[DEBUG] Exiting sql_agent with State:\", state)\n",
    "    return state\n"
   ]
  },
  {
   "cell_type": "markdown",
   "id": "2848d8b8",
   "metadata": {},
   "source": [
    "### **Enterprise Search Agent**\n",
    "\n",
    "- Processes document-related queries.  \n",
    "- Uses chat history for context if available.  \n",
    "- Returns search results to the Orchestrator Agent."
   ]
  },
  {
   "cell_type": "code",
   "execution_count": 4,
   "id": "3a6974a8",
   "metadata": {},
   "outputs": [],
   "source": [
    "def search_agent(state: State):\n",
    "    state.validate()\n",
    "    print(\"[DEBUG] Entering search_agent\")\n",
    "    print(\"[DEBUG] State Type Before Processing in search_agent:\", type(state))\n",
    "    \n",
    "    context = \"\\n\".join([\n",
    "        f\"User: {entry['user_query']}, Agent: {entry['agent']}, Response: {entry['response']}\" \n",
    "        for entry in state.chat_history\n",
    "    ])\n",
    "    state.search_result = f\"Search Result for '{state.user_query}' with context:\\n{context}\"\n",
    "    \n",
    "    print(\"[DEBUG] Exiting search_agent with State:\", state)\n",
    "    return state\n"
   ]
  },
  {
   "cell_type": "markdown",
   "id": "91f5ab04",
   "metadata": {},
   "source": [
    "### **Reporting Agent**\n",
    "\n",
    "- Uses the final aggregated response from the Orchestrator Agent.  \n",
    "- Creates a structured report from the aggregated data."
   ]
  },
  {
   "cell_type": "code",
   "execution_count": 5,
   "id": "fa7f0928",
   "metadata": {},
   "outputs": [],
   "source": [
    "def reporting_agent(state: State):\n",
    "    state.validate()\n",
    "    print(\"[DEBUG] Entering reporting_agent\")\n",
    "    print(\"[DEBUG] State Type Before Processing in reporting_agent:\", type(state))\n",
    "    \n",
    "    state.report = f\"Aggregated Report:\\n{state.final_response}\\nGenerated using the final aggregated results.\"\n",
    "    \n",
    "    state.chat_history.append({\n",
    "        \"user_query\": state.user_query,\n",
    "        \"agent\": \"reporting\",\n",
    "        \"response\": state.report\n",
    "    })\n",
    "    state.final_response = state.report\n",
    "    \n",
    "    print(\"[DEBUG] Exiting reporting_agent with State:\", state)\n",
    "    return state\n"
   ]
  },
  {
   "cell_type": "markdown",
   "id": "38b0735c",
   "metadata": {},
   "source": [
    "## **3. Workflow Graph**\n",
    "\n",
    "Defines how agents interact and specifies routing conditions."
   ]
  },
  {
   "cell_type": "code",
   "execution_count": 6,
   "id": "649581a4",
   "metadata": {},
   "outputs": [],
   "source": [
    "from langgraph.graph import StateGraph, END\n",
    "\n",
    "# Define the condition function\n",
    "def orchestrator_condition(state: State):\n",
    "    print(\"[DEBUG] Evaluating orchestrator_condition\")\n",
    "    print(\"[DEBUG] State Type Before Routing Decision:\", type(state))\n",
    "    \n",
    "    if not isinstance(state, State):\n",
    "        raise TypeError(\"[ERROR] State is not a valid State object in orchestrator_condition\")\n",
    "\n",
    "    if state.route in [\"sql\", \"database\"]:\n",
    "        print(\"[DEBUG] Routing to sql_agent\")\n",
    "        return \"to_sql_agent\"\n",
    "    if state.route == \"search\":\n",
    "        print(\"[DEBUG] Routing to search_agent\")\n",
    "        return \"to_search_agent\"\n",
    "    if state.request_report:\n",
    "        print(\"[DEBUG] Routing to reporting_agent\")\n",
    "        return \"to_reporting_agent\"\n",
    "    print(\"LKJDLKJL\", state.final_response)\n",
    "    # Workflow Stop Condition\n",
    "    if state.final_response is not None:\n",
    "        print(\"[DEBUG] Workflow Complete - Returning END\")\n",
    "        return END  # Stops the workflow\n",
    "\n",
    "    raise ValueError(\"[ERROR] Invalid condition in orchestrator_condition\")\n",
    "\n",
    "\n",
    "graph = StateGraph(State)\n",
    "\n",
    "# Add agents as nodes\n",
    "graph.add_node(\"orchestrator_agent\", orchestrator_agent)\n",
    "graph.add_node(\"sql_agent\", sql_agent)\n",
    "graph.add_node(\"search_agent\", search_agent)\n",
    "graph.add_node(\"reporting_agent\", reporting_agent)\n",
    "\n",
    "# Define conditional transitions\n",
    "graph.add_conditional_edges(\n",
    "    source=\"orchestrator_agent\",\n",
    "    path=orchestrator_condition,\n",
    "    path_map={\n",
    "        \"to_sql_agent\": \"sql_agent\",\n",
    "        \"to_search_agent\": \"search_agent\",\n",
    "        \"to_reporting_agent\": \"reporting_agent\"\n",
    "    }\n",
    ")\n",
    "\n",
    "# Define unconditional transitions\n",
    "graph.add_edge(\"sql_agent\", \"orchestrator_agent\")\n",
    "graph.add_edge(\"search_agent\", \"orchestrator_agent\")\n",
    "\n",
    "# Set entry and finish points\n",
    "graph.set_entry_point(\"orchestrator_agent\")\n",
    "graph.set_finish_point(\"orchestrator_agent\")\n",
    "\n",
    "# Compile the graph\n",
    "app = graph.compile()\n",
    "\n"
   ]
  },
  {
   "cell_type": "code",
   "execution_count": 10,
   "id": "1140dd27",
   "metadata": {},
   "outputs": [
    {
     "data": {
      "image/png": "[encoded data removed]",
      "text/plain": [
       "<IPython.core.display.Image object>"
      ]
     },
     "metadata": {},
     "output_type": "display_data"
    }
   ],
   "source": [
    "from IPython.display import Image, display\n",
    "display(Image(app.get_graph().draw_mermaid_png()))"
   ]
  },
  {
   "cell_type": "markdown",
   "id": "d43b0ecf",
   "metadata": {},
   "source": [
    "# Run Workflow Scenarios"
   ]
  },
  {
   "cell_type": "markdown",
   "id": "ddb9cbd5",
   "metadata": {},
   "source": [
    "### Scenario 1: SQL → SQL → Search → Report"
   ]
  },
  {
   "cell_type": "code",
   "execution_count": 7,
   "id": "977971e6",
   "metadata": {},
   "outputs": [
    {
     "name": "stdout",
     "output_type": "stream",
     "text": [
      "[DEBUG] Initial State Before Invoke: State(user_query=Get customer details from the database., route=None, sql_result=None, search_result=None, final_response=None, report=None, request_report=False, chat_history=[])\n",
      "[DEBUG] Entering orchestrator_agent\n",
      "[DEBUG] State Type Before Processing: <class '__main__.State'>\n",
      "[DEBUG] Evaluating orchestrator_condition\n",
      "[DEBUG] State Type Before Routing Decision: <class '__main__.State'>\n",
      "[DEBUG] Routing to sql_agent\n",
      "[DEBUG] Entering sql_agent\n",
      "[DEBUG] State Type Before Processing in sql_agent: <class '__main__.State'>\n",
      "[DEBUG] Exiting sql_agent with State: State(user_query=Get customer details from the database., route=sql, sql_result=SQL Query Result for 'Get customer details from the database.' with context:\n",
      ", search_result=None, final_response=None, report=None, request_report=False, chat_history=[])\n",
      "[DEBUG] Entering orchestrator_agent\n",
      "[DEBUG] State Type Before Processing: <class '__main__.State'>\n",
      "[DEBUG] End of Workflow Reached - Returning END\n",
      "[DEBUG] Evaluating orchestrator_condition\n",
      "[DEBUG] State Type Before Routing Decision: <class 'str'>\n"
     ]
    },
    {
     "ename": "TypeError",
     "evalue": "[ERROR] State is not a valid State object in orchestrator_condition",
     "output_type": "error",
     "traceback": [
      "\u001b[0;31m---------------------------------------------------------------------------\u001b[0m",
      "\u001b[0;31mTypeError\u001b[0m                                 Traceback (most recent call last)",
      "Input \u001b[0;32mIn [7]\u001b[0m, in \u001b[0;36m<cell line: 5>\u001b[0;34m()\u001b[0m\n\u001b[1;32m      2\u001b[0m initial_state \u001b[38;5;241m=\u001b[39m State(user_query\u001b[38;5;241m=\u001b[39m\u001b[38;5;124m\"\u001b[39m\u001b[38;5;124mGet customer details from the database.\u001b[39m\u001b[38;5;124m\"\u001b[39m)\n\u001b[1;32m      3\u001b[0m \u001b[38;5;28mprint\u001b[39m(\u001b[38;5;124m\"\u001b[39m\u001b[38;5;124m[DEBUG] Initial State Before Invoke:\u001b[39m\u001b[38;5;124m\"\u001b[39m, initial_state)\n\u001b[0;32m----> 5\u001b[0m state \u001b[38;5;241m=\u001b[39m \u001b[43mapp\u001b[49m\u001b[38;5;241;43m.\u001b[39;49m\u001b[43minvoke\u001b[49m\u001b[43m(\u001b[49m\u001b[43minitial_state\u001b[49m\u001b[43m)\u001b[49m\n\u001b[1;32m      7\u001b[0m \u001b[38;5;28;01mif\u001b[39;00m \u001b[38;5;129;01mnot\u001b[39;00m \u001b[38;5;28misinstance\u001b[39m(state, State):\n\u001b[1;32m      8\u001b[0m     \u001b[38;5;28;01mraise\u001b[39;00m \u001b[38;5;167;01mTypeError\u001b[39;00m(\u001b[38;5;124mf\u001b[39m\u001b[38;5;124m\"\u001b[39m\u001b[38;5;124m[ERROR] app.invoke returned \u001b[39m\u001b[38;5;132;01m{\u001b[39;00m\u001b[38;5;28mtype\u001b[39m(state)\u001b[38;5;132;01m}\u001b[39;00m\u001b[38;5;124m instead of \u001b[39m\u001b[38;5;124m'\u001b[39m\u001b[38;5;124mState\u001b[39m\u001b[38;5;124m'\u001b[39m\u001b[38;5;124m. Value: \u001b[39m\u001b[38;5;132;01m{\u001b[39;00mstate\u001b[38;5;132;01m}\u001b[39;00m\u001b[38;5;124m\"\u001b[39m)\n",
      "File \u001b[0;32m~/miniforge3/envs/random_env/lib/python3.9/site-packages/langgraph/pregel/__init__.py:1940\u001b[0m, in \u001b[0;36mPregel.invoke\u001b[0;34m(self, input, config, stream_mode, output_keys, interrupt_before, interrupt_after, debug, **kwargs)\u001b[0m\n\u001b[1;32m   1938\u001b[0m \u001b[38;5;28;01melse\u001b[39;00m:\n\u001b[1;32m   1939\u001b[0m     chunks \u001b[38;5;241m=\u001b[39m []\n\u001b[0;32m-> 1940\u001b[0m \u001b[38;5;28;01mfor\u001b[39;00m chunk \u001b[38;5;129;01min\u001b[39;00m \u001b[38;5;28mself\u001b[39m\u001b[38;5;241m.\u001b[39mstream(\n\u001b[1;32m   1941\u001b[0m     \u001b[38;5;28minput\u001b[39m,\n\u001b[1;32m   1942\u001b[0m     config,\n\u001b[1;32m   1943\u001b[0m     stream_mode\u001b[38;5;241m=\u001b[39mstream_mode,\n\u001b[1;32m   1944\u001b[0m     output_keys\u001b[38;5;241m=\u001b[39moutput_keys,\n\u001b[1;32m   1945\u001b[0m     interrupt_before\u001b[38;5;241m=\u001b[39minterrupt_before,\n\u001b[1;32m   1946\u001b[0m     interrupt_after\u001b[38;5;241m=\u001b[39minterrupt_after,\n\u001b[1;32m   1947\u001b[0m     debug\u001b[38;5;241m=\u001b[39mdebug,\n\u001b[1;32m   1948\u001b[0m     \u001b[38;5;241m*\u001b[39m\u001b[38;5;241m*\u001b[39mkwargs,\n\u001b[1;32m   1949\u001b[0m ):\n\u001b[1;32m   1950\u001b[0m     \u001b[38;5;28;01mif\u001b[39;00m stream_mode \u001b[38;5;241m==\u001b[39m \u001b[38;5;124m\"\u001b[39m\u001b[38;5;124mvalues\u001b[39m\u001b[38;5;124m\"\u001b[39m:\n\u001b[1;32m   1951\u001b[0m         latest \u001b[38;5;241m=\u001b[39m chunk\n",
      "File \u001b[0;32m~/miniforge3/envs/random_env/lib/python3.9/site-packages/langgraph/pregel/__init__.py:1660\u001b[0m, in \u001b[0;36mPregel.stream\u001b[0;34m(self, input, config, stream_mode, output_keys, interrupt_before, interrupt_after, debug, subgraphs)\u001b[0m\n\u001b[1;32m   1654\u001b[0m     \u001b[38;5;66;03m# Similarly to Bulk Synchronous Parallel / Pregel model\u001b[39;00m\n\u001b[1;32m   1655\u001b[0m     \u001b[38;5;66;03m# computation proceeds in steps, while there are channel updates\u001b[39;00m\n\u001b[1;32m   1656\u001b[0m     \u001b[38;5;66;03m# channel updates from step N are only visible in step N+1\u001b[39;00m\n\u001b[1;32m   1657\u001b[0m     \u001b[38;5;66;03m# channels are guaranteed to be immutable for the duration of the step,\u001b[39;00m\n\u001b[1;32m   1658\u001b[0m     \u001b[38;5;66;03m# with channel updates applied only at the transition between steps\u001b[39;00m\n\u001b[1;32m   1659\u001b[0m     \u001b[38;5;28;01mwhile\u001b[39;00m loop\u001b[38;5;241m.\u001b[39mtick(input_keys\u001b[38;5;241m=\u001b[39m\u001b[38;5;28mself\u001b[39m\u001b[38;5;241m.\u001b[39minput_channels):\n\u001b[0;32m-> 1660\u001b[0m         \u001b[38;5;28;01mfor\u001b[39;00m _ \u001b[38;5;129;01min\u001b[39;00m runner\u001b[38;5;241m.\u001b[39mtick(\n\u001b[1;32m   1661\u001b[0m             loop\u001b[38;5;241m.\u001b[39mtasks\u001b[38;5;241m.\u001b[39mvalues(),\n\u001b[1;32m   1662\u001b[0m             timeout\u001b[38;5;241m=\u001b[39m\u001b[38;5;28mself\u001b[39m\u001b[38;5;241m.\u001b[39mstep_timeout,\n\u001b[1;32m   1663\u001b[0m             retry_policy\u001b[38;5;241m=\u001b[39m\u001b[38;5;28mself\u001b[39m\u001b[38;5;241m.\u001b[39mretry_policy,\n\u001b[1;32m   1664\u001b[0m             get_waiter\u001b[38;5;241m=\u001b[39mget_waiter,\n\u001b[1;32m   1665\u001b[0m         ):\n\u001b[1;32m   1666\u001b[0m             \u001b[38;5;66;03m# emit output\u001b[39;00m\n\u001b[1;32m   1667\u001b[0m             \u001b[38;5;28;01myield from\u001b[39;00m output()\n\u001b[1;32m   1668\u001b[0m \u001b[38;5;66;03m# emit output\u001b[39;00m\n",
      "File \u001b[0;32m~/miniforge3/envs/random_env/lib/python3.9/site-packages/langgraph/pregel/runner.py:167\u001b[0m, in \u001b[0;36mPregelRunner.tick\u001b[0;34m(self, tasks, reraise, timeout, retry_policy, get_waiter)\u001b[0m\n\u001b[1;32m    165\u001b[0m t \u001b[38;5;241m=\u001b[39m tasks[\u001b[38;5;241m0\u001b[39m]\n\u001b[1;32m    166\u001b[0m \u001b[38;5;28;01mtry\u001b[39;00m:\n\u001b[0;32m--> 167\u001b[0m     \u001b[43mrun_with_retry\u001b[49m\u001b[43m(\u001b[49m\n\u001b[1;32m    168\u001b[0m \u001b[43m        \u001b[49m\u001b[43mt\u001b[49m\u001b[43m,\u001b[49m\n\u001b[1;32m    169\u001b[0m \u001b[43m        \u001b[49m\u001b[43mretry_policy\u001b[49m\u001b[43m,\u001b[49m\n\u001b[1;32m    170\u001b[0m \u001b[43m        \u001b[49m\u001b[43mconfigurable\u001b[49m\u001b[38;5;241;43m=\u001b[39;49m\u001b[43m{\u001b[49m\n\u001b[1;32m    171\u001b[0m \u001b[43m            \u001b[49m\u001b[43mCONFIG_KEY_SEND\u001b[49m\u001b[43m:\u001b[49m\u001b[43m \u001b[49m\u001b[43mpartial\u001b[49m\u001b[43m(\u001b[49m\u001b[43mwriter\u001b[49m\u001b[43m,\u001b[49m\u001b[43m \u001b[49m\u001b[43mt\u001b[49m\u001b[43m)\u001b[49m\u001b[43m,\u001b[49m\n\u001b[1;32m    172\u001b[0m \u001b[43m            \u001b[49m\u001b[43mCONFIG_KEY_CALL\u001b[49m\u001b[43m:\u001b[49m\u001b[43m \u001b[49m\u001b[43mpartial\u001b[49m\u001b[43m(\u001b[49m\u001b[43mcall\u001b[49m\u001b[43m,\u001b[49m\u001b[43m \u001b[49m\u001b[43mt\u001b[49m\u001b[43m)\u001b[49m\u001b[43m,\u001b[49m\n\u001b[1;32m    173\u001b[0m \u001b[43m        \u001b[49m\u001b[43m}\u001b[49m\u001b[43m,\u001b[49m\n\u001b[1;32m    174\u001b[0m \u001b[43m    \u001b[49m\u001b[43m)\u001b[49m\n\u001b[1;32m    175\u001b[0m     \u001b[38;5;28mself\u001b[39m\u001b[38;5;241m.\u001b[39mcommit(t, \u001b[38;5;28;01mNone\u001b[39;00m)\n\u001b[1;32m    176\u001b[0m \u001b[38;5;28;01mexcept\u001b[39;00m \u001b[38;5;167;01mException\u001b[39;00m \u001b[38;5;28;01mas\u001b[39;00m exc:\n",
      "File \u001b[0;32m~/miniforge3/envs/random_env/lib/python3.9/site-packages/langgraph/pregel/retry.py:40\u001b[0m, in \u001b[0;36mrun_with_retry\u001b[0;34m(task, retry_policy, configurable)\u001b[0m\n\u001b[1;32m     38\u001b[0m     task\u001b[38;5;241m.\u001b[39mwrites\u001b[38;5;241m.\u001b[39mclear()\n\u001b[1;32m     39\u001b[0m     \u001b[38;5;66;03m# run the task\u001b[39;00m\n\u001b[0;32m---> 40\u001b[0m     \u001b[38;5;28;01mreturn\u001b[39;00m \u001b[43mtask\u001b[49m\u001b[38;5;241;43m.\u001b[39;49m\u001b[43mproc\u001b[49m\u001b[38;5;241;43m.\u001b[39;49m\u001b[43minvoke\u001b[49m\u001b[43m(\u001b[49m\u001b[43mtask\u001b[49m\u001b[38;5;241;43m.\u001b[39;49m\u001b[43minput\u001b[49m\u001b[43m,\u001b[49m\u001b[43m \u001b[49m\u001b[43mconfig\u001b[49m\u001b[43m)\u001b[49m\n\u001b[1;32m     41\u001b[0m \u001b[38;5;28;01mexcept\u001b[39;00m ParentCommand \u001b[38;5;28;01mas\u001b[39;00m exc:\n\u001b[1;32m     42\u001b[0m     ns: \u001b[38;5;28mstr\u001b[39m \u001b[38;5;241m=\u001b[39m config[CONF][CONFIG_KEY_CHECKPOINT_NS]\n",
      "File \u001b[0;32m~/miniforge3/envs/random_env/lib/python3.9/site-packages/langgraph/utils/runnable.py:410\u001b[0m, in \u001b[0;36mRunnableSeq.invoke\u001b[0;34m(self, input, config, **kwargs)\u001b[0m\n\u001b[1;32m    408\u001b[0m             \u001b[38;5;28minput\u001b[39m \u001b[38;5;241m=\u001b[39m step\u001b[38;5;241m.\u001b[39minvoke(\u001b[38;5;28minput\u001b[39m, config, \u001b[38;5;241m*\u001b[39m\u001b[38;5;241m*\u001b[39mkwargs)\n\u001b[1;32m    409\u001b[0m         \u001b[38;5;28;01melse\u001b[39;00m:\n\u001b[0;32m--> 410\u001b[0m             \u001b[38;5;28minput\u001b[39m \u001b[38;5;241m=\u001b[39m \u001b[43mstep\u001b[49m\u001b[38;5;241;43m.\u001b[39;49m\u001b[43minvoke\u001b[49m\u001b[43m(\u001b[49m\u001b[38;5;28;43minput\u001b[39;49m\u001b[43m,\u001b[49m\u001b[43m \u001b[49m\u001b[43mconfig\u001b[49m\u001b[43m)\u001b[49m\n\u001b[1;32m    411\u001b[0m \u001b[38;5;66;03m# finish the root run\u001b[39;00m\n\u001b[1;32m    412\u001b[0m \u001b[38;5;28;01mexcept\u001b[39;00m \u001b[38;5;167;01mBaseException\u001b[39;00m \u001b[38;5;28;01mas\u001b[39;00m e:\n",
      "File \u001b[0;32m~/miniforge3/envs/random_env/lib/python3.9/site-packages/langgraph/utils/runnable.py:184\u001b[0m, in \u001b[0;36mRunnableCallable.invoke\u001b[0;34m(self, input, config, **kwargs)\u001b[0m\n\u001b[1;32m    182\u001b[0m \u001b[38;5;28;01melse\u001b[39;00m:\n\u001b[1;32m    183\u001b[0m     context\u001b[38;5;241m.\u001b[39mrun(_set_config_context, config)\n\u001b[0;32m--> 184\u001b[0m     ret \u001b[38;5;241m=\u001b[39m \u001b[43mcontext\u001b[49m\u001b[38;5;241;43m.\u001b[39;49m\u001b[43mrun\u001b[49m\u001b[43m(\u001b[49m\u001b[38;5;28;43mself\u001b[39;49m\u001b[38;5;241;43m.\u001b[39;49m\u001b[43mfunc\u001b[49m\u001b[43m,\u001b[49m\u001b[43m \u001b[49m\u001b[38;5;28;43minput\u001b[39;49m\u001b[43m,\u001b[49m\u001b[43m \u001b[49m\u001b[38;5;241;43m*\u001b[39;49m\u001b[38;5;241;43m*\u001b[39;49m\u001b[43mkwargs\u001b[49m\u001b[43m)\u001b[49m\n\u001b[1;32m    185\u001b[0m \u001b[38;5;28;01mif\u001b[39;00m \u001b[38;5;28misinstance\u001b[39m(ret, Runnable) \u001b[38;5;129;01mand\u001b[39;00m \u001b[38;5;28mself\u001b[39m\u001b[38;5;241m.\u001b[39mrecurse:\n\u001b[1;32m    186\u001b[0m     \u001b[38;5;28;01mreturn\u001b[39;00m ret\u001b[38;5;241m.\u001b[39minvoke(\u001b[38;5;28minput\u001b[39m, config)\n",
      "File \u001b[0;32m~/miniforge3/envs/random_env/lib/python3.9/site-packages/langgraph/graph/graph.py:95\u001b[0m, in \u001b[0;36mBranch._route\u001b[0;34m(self, input, config, reader, writer)\u001b[0m\n\u001b[1;32m     93\u001b[0m \u001b[38;5;28;01melse\u001b[39;00m:\n\u001b[1;32m     94\u001b[0m     value \u001b[38;5;241m=\u001b[39m \u001b[38;5;28minput\u001b[39m\n\u001b[0;32m---> 95\u001b[0m result \u001b[38;5;241m=\u001b[39m \u001b[38;5;28;43mself\u001b[39;49m\u001b[38;5;241;43m.\u001b[39;49m\u001b[43mpath\u001b[49m\u001b[38;5;241;43m.\u001b[39;49m\u001b[43minvoke\u001b[49m\u001b[43m(\u001b[49m\u001b[43mvalue\u001b[49m\u001b[43m,\u001b[49m\u001b[43m \u001b[49m\u001b[43mconfig\u001b[49m\u001b[43m)\u001b[49m\n\u001b[1;32m     96\u001b[0m \u001b[38;5;28;01mreturn\u001b[39;00m \u001b[38;5;28mself\u001b[39m\u001b[38;5;241m.\u001b[39m_finish(writer, \u001b[38;5;28minput\u001b[39m, result, config)\n",
      "File \u001b[0;32m~/miniforge3/envs/random_env/lib/python3.9/site-packages/langgraph/utils/runnable.py:176\u001b[0m, in \u001b[0;36mRunnableCallable.invoke\u001b[0;34m(self, input, config, **kwargs)\u001b[0m\n\u001b[1;32m    174\u001b[0m     context \u001b[38;5;241m=\u001b[39m copy_context()\n\u001b[1;32m    175\u001b[0m     context\u001b[38;5;241m.\u001b[39mrun(_set_config_context, child_config)\n\u001b[0;32m--> 176\u001b[0m     ret \u001b[38;5;241m=\u001b[39m \u001b[43mcontext\u001b[49m\u001b[38;5;241;43m.\u001b[39;49m\u001b[43mrun\u001b[49m\u001b[43m(\u001b[49m\u001b[38;5;28;43mself\u001b[39;49m\u001b[38;5;241;43m.\u001b[39;49m\u001b[43mfunc\u001b[49m\u001b[43m,\u001b[49m\u001b[43m \u001b[49m\u001b[38;5;28;43minput\u001b[39;49m\u001b[43m,\u001b[49m\u001b[43m \u001b[49m\u001b[38;5;241;43m*\u001b[39;49m\u001b[38;5;241;43m*\u001b[39;49m\u001b[43mkwargs\u001b[49m\u001b[43m)\u001b[49m\n\u001b[1;32m    177\u001b[0m \u001b[38;5;28;01mexcept\u001b[39;00m \u001b[38;5;167;01mBaseException\u001b[39;00m \u001b[38;5;28;01mas\u001b[39;00m e:\n\u001b[1;32m    178\u001b[0m     run_manager\u001b[38;5;241m.\u001b[39mon_chain_error(e)\n",
      "Input \u001b[0;32mIn [6]\u001b[0m, in \u001b[0;36morchestrator_condition\u001b[0;34m(state)\u001b[0m\n\u001b[1;32m      6\u001b[0m \u001b[38;5;28mprint\u001b[39m(\u001b[38;5;124m\"\u001b[39m\u001b[38;5;124m[DEBUG] State Type Before Routing Decision:\u001b[39m\u001b[38;5;124m\"\u001b[39m, \u001b[38;5;28mtype\u001b[39m(state))\n\u001b[1;32m      8\u001b[0m \u001b[38;5;28;01mif\u001b[39;00m \u001b[38;5;129;01mnot\u001b[39;00m \u001b[38;5;28misinstance\u001b[39m(state, State):\n\u001b[0;32m----> 9\u001b[0m     \u001b[38;5;28;01mraise\u001b[39;00m \u001b[38;5;167;01mTypeError\u001b[39;00m(\u001b[38;5;124m\"\u001b[39m\u001b[38;5;124m[ERROR] State is not a valid State object in orchestrator_condition\u001b[39m\u001b[38;5;124m\"\u001b[39m)\n\u001b[1;32m     11\u001b[0m \u001b[38;5;28;01mif\u001b[39;00m state\u001b[38;5;241m.\u001b[39mroute \u001b[38;5;129;01min\u001b[39;00m [\u001b[38;5;124m\"\u001b[39m\u001b[38;5;124msql\u001b[39m\u001b[38;5;124m\"\u001b[39m, \u001b[38;5;124m\"\u001b[39m\u001b[38;5;124mdatabase\u001b[39m\u001b[38;5;124m\"\u001b[39m]:\n\u001b[1;32m     12\u001b[0m     \u001b[38;5;28mprint\u001b[39m(\u001b[38;5;124m\"\u001b[39m\u001b[38;5;124m[DEBUG] Routing to sql_agent\u001b[39m\u001b[38;5;124m\"\u001b[39m)\n",
      "\u001b[0;31mTypeError\u001b[0m: [ERROR] State is not a valid State object in orchestrator_condition"
     ]
    }
   ],
   "source": [
    "# Initial SQL Query\n",
    "initial_state = State(user_query=\"Get customer details from the database.\")\n",
    "print(\"[DEBUG] Initial State Before Invoke:\", initial_state)\n",
    "\n",
    "state = app.invoke(initial_state)\n",
    "\n",
    "if not isinstance(state, State):\n",
    "    raise TypeError(f\"[ERROR] app.invoke returned {type(state)} instead of 'State'. Value: {state}\")\n",
    "\n",
    "print(\"[DEBUG] Final State After Invoke:\", state)\n",
    "print(\"\\nFinal Response:\", state.final_response)\n",
    "\n",
    "# Follow-Up SQL Query\n",
    "state = app.invoke(State(\n",
    "    user_query=\"What about their recent purchases?\",\n",
    "    request_report=state.request_report,\n",
    "    chat_history=state.chat_history\n",
    "))\n",
    "print(\"\\nFinal Response:\", state.final_response)\n",
    "\n",
    "# Follow-Up Search Query\n",
    "state = app.invoke(State(\n",
    "    user_query=\"Are there any documents related to these customers?\",\n",
    "    request_report=state.request_report,\n",
    "    chat_history=state.chat_history\n",
    "))\n",
    "print(\"\\nFinal Response:\", state.final_response)\n",
    "\n",
    "# Generate Report\n",
    "state = app.invoke(State(\n",
    "    user_query=\"Please generate a report for this.\",\n",
    "    request_report=True,\n",
    "    chat_history=state.chat_history\n",
    "))\n",
    "print(\"\\nFinal Report:\", state.final_response)\n"
   ]
  },
  {
   "cell_type": "markdown",
   "id": "f464f7db",
   "metadata": {},
   "source": []
  },
  {
   "cell_type": "code",
   "execution_count": null,
   "id": "00217870",
   "metadata": {},
   "outputs": [],
   "source": []
  }
 ],
 "metadata": {
  "kernelspec": {
   "display_name": "random_env",
   "language": "python",
   "name": "random_env"
  },
  "language_info": {
   "codemirror_mode": {
    "name": "ipython",
    "version": 3
   },
   "file_extension": ".py",
   "mimetype": "text/x-python",
   "name": "python",
   "nbconvert_exporter": "python",
   "pygments_lexer": "ipython3",
   "version": "3.9.13"
  }
 },
 "nbformat": 4,
 "nbformat_minor": 5
}
